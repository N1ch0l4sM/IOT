{
 "cells": [
  {
   "cell_type": "code",
   "execution_count": 4,
   "id": "7314a95c",
   "metadata": {},
   "outputs": [
    {
     "ename": "InvalidColumnReference",
     "evalue": "there is no unique or exclusion constraint matching the ON CONFLICT specification\n",
     "output_type": "error",
     "traceback": [
      "\u001b[31m---------------------------------------------------------------------------\u001b[39m",
      "\u001b[31mInvalidColumnReference\u001b[39m                    Traceback (most recent call last)",
      "\u001b[36mCell\u001b[39m\u001b[36m \u001b[39m\u001b[32mIn[4]\u001b[39m\u001b[32m, line 25\u001b[39m\n\u001b[32m     22\u001b[39m lon = city[\u001b[33m\"\u001b[39m\u001b[33mlon\u001b[39m\u001b[33m\"\u001b[39m]\n\u001b[32m     24\u001b[39m \u001b[38;5;66;03m# Insert country if not exists\u001b[39;00m\n\u001b[32m---> \u001b[39m\u001b[32m25\u001b[39m \u001b[43mcursor\u001b[49m\u001b[43m.\u001b[49m\u001b[43mexecute\u001b[49m\u001b[43m(\u001b[49m\u001b[33;43m\"\"\"\u001b[39;49m\n\u001b[32m     26\u001b[39m \u001b[33;43m    INSERT INTO country (CountryName)\u001b[39;49m\n\u001b[32m     27\u001b[39m \u001b[33;43m    VALUES (\u001b[39;49m\u001b[38;5;132;43;01m%s\u001b[39;49;00m\u001b[33;43m)\u001b[39;49m\n\u001b[32m     28\u001b[39m \u001b[33;43m    ON CONFLICT (CountryName) DO NOTHING\u001b[39;49m\n\u001b[32m     29\u001b[39m \u001b[33;43m    RETURNING IdCountry;\u001b[39;49m\n\u001b[32m     30\u001b[39m \u001b[33;43m\u001b[39;49m\u001b[33;43m\"\"\"\u001b[39;49m\u001b[43m,\u001b[49m\u001b[43m \u001b[49m\u001b[43m(\u001b[49m\u001b[43mcountry_name\u001b[49m\u001b[43m,\u001b[49m\u001b[43m)\u001b[49m\u001b[43m)\u001b[49m\n\u001b[32m     31\u001b[39m country_id = cursor.fetchone()\n\u001b[32m     32\u001b[39m \u001b[38;5;28;01mif\u001b[39;00m country_id \u001b[38;5;129;01mis\u001b[39;00m \u001b[38;5;28;01mNone\u001b[39;00m:\n",
      "\u001b[31mInvalidColumnReference\u001b[39m: there is no unique or exclusion constraint matching the ON CONFLICT specification\n"
     ]
    }
   ],
   "source": [
    "import sys\n",
    "import os\n",
    "sys.path.append(os.path.abspath(os.path.join(os.getcwd(), \"..\")))\n",
    "from src.config import cities,PG1_CONFIG\n",
    "\n",
    "import psycopg2\n",
    "\n",
    "conn = psycopg2.connect(\n",
    "            dbname=PG1_CONFIG['database'],\n",
    "            user=PG1_CONFIG['user'],\n",
    "            password=PG1_CONFIG['password'],\n",
    "            host=PG1_CONFIG['host'],\n",
    "            port=PG1_CONFIG['port']\n",
    "        )\n",
    "cursor = conn.cursor()\n",
    "\n",
    "# Insert countries and cities\n",
    "for city in cities:\n",
    "    country_name = city[\"country\"]\n",
    "    city_name = city[\"city\"]\n",
    "    lat = city[\"lat\"]\n",
    "    lon = city[\"lon\"]\n",
    "\n",
    "    # Insert country if not exists\n",
    "    cursor.execute(\"\"\"\n",
    "        INSERT INTO country (CountryName)\n",
    "        VALUES (%s)\n",
    "        ON CONFLICT (CountryName) DO NOTHING\n",
    "        RETURNING IdCountry;\n",
    "    \"\"\", (country_name,))\n",
    "    country_id = cursor.fetchone()\n",
    "    if country_id is None:\n",
    "        cursor.execute(\"SELECT IdCountry FROM country WHERE CountryName = %s;\", (country_name,))\n",
    "        country_id = cursor.fetchone()[0]\n",
    "    else:\n",
    "        country_id = country_id[0]\n",
    "\n",
    "    # Insert city\n",
    "    cursor.execute(\"\"\"\n",
    "        INSERT INTO city (CityName, IdCountry, Lon, Lat)\n",
    "        VALUES (%s, %s, %s, %s)\n",
    "        ON CONFLICT (CityName, IdCountry) DO NOTHING;\n",
    "    \"\"\", (city_name, country_id, lon, lat))\n",
    "\n",
    "# Commit the transaction\n",
    "conn.commit()"
   ]
  }
 ],
 "metadata": {
  "kernelspec": {
   "display_name": "venv (3.12.3)",
   "language": "python",
   "name": "python3"
  },
  "language_info": {
   "codemirror_mode": {
    "name": "ipython",
    "version": 3
   },
   "file_extension": ".py",
   "mimetype": "text/x-python",
   "name": "python",
   "nbconvert_exporter": "python",
   "pygments_lexer": "ipython3",
   "version": "3.12.3"
  }
 },
 "nbformat": 4,
 "nbformat_minor": 5
}
